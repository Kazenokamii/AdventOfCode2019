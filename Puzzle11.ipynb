{
 "cells": [
  {
   "cell_type": "code",
   "execution_count": 51,
   "metadata": {},
   "outputs": [],
   "source": [
    "from array import *\n",
    "import numpy as np\n",
    "import matplotlib.pyplot as plt"
   ]
  },
  {
   "cell_type": "code",
   "execution_count": 2,
   "metadata": {},
   "outputs": [],
   "source": [
    "def IntCode(puzzleInput, counter = 0, relativeValue = 0):\n",
    "    x = puzzleInput.copy()\n",
    "    while counter < len(x):\n",
    "        operatorLength = len(str(x[counter]))\n",
    "        if x[counter] == 99:\n",
    "            return\n",
    "        operator = str(x[counter])[-1]\n",
    "        try:\n",
    "            modeOneOperator = str(x[counter])[-3]\n",
    "            if modeOneOperator == '0':\n",
    "                modeOne = 'position'\n",
    "            elif modeOneOperator == '1':\n",
    "                modeOne = 'immediate'\n",
    "            elif modeOneOperator == '2':\n",
    "                modeOne = 'relative'\n",
    "        except:\n",
    "            modeOne = 'position'\n",
    "            pass\n",
    "        try: \n",
    "            modeTwoOperator = str(x[counter])[-4]\n",
    "            if modeTwoOperator == '0':\n",
    "                modeTwo = 'position'\n",
    "            elif modeTwoOperator == '1':\n",
    "                modeTwo = 'immediate'\n",
    "            elif modeTwoOperator == '2':\n",
    "                modeTwo = 'relative'\n",
    "        except:\n",
    "            modeTwo = 'position'\n",
    "            pass\n",
    "        try:\n",
    "            modeThreeOperator = str(x[counter])[-5]\n",
    "            if modeThreeOperator == '0':\n",
    "                modeThree = 'position'\n",
    "            elif modeThreeOperator == '1':\n",
    "                modeThree = 'immediate'\n",
    "            elif modeThreeOperator == '2':\n",
    "                modeThree = 'relative'\n",
    "        except:\n",
    "            modeThree = 'position'\n",
    "            pass\n",
    "        if modeOne == 'position':\n",
    "            try:\n",
    "                inputOne = x[x[counter+1]]\n",
    "            except:\n",
    "                inputOne = 0\n",
    "                pass\n",
    "        elif modeOne == 'immediate':\n",
    "            try:\n",
    "                inputOne = x[counter+1]\n",
    "            except:\n",
    "                inputOne = 0\n",
    "                pass\n",
    "        elif modeOne == 'relative':\n",
    "            try:\n",
    "                inputOne = x[relativeValue + x[counter+1]]\n",
    "            except:\n",
    "                print('Threw exception ' + str(relativeValue + x[counter+1]))\n",
    "                inputOne = 0\n",
    "                pass\n",
    "        if modeTwo == 'position':\n",
    "            try:\n",
    "                inputTwo = x[x[counter+2]]\n",
    "            except:\n",
    "                inputTwo = 0\n",
    "                pass\n",
    "        elif modeTwo == 'immediate':\n",
    "            try:\n",
    "                inputTwo = x[counter+2]\n",
    "            except:\n",
    "                inputTwo = 0\n",
    "                pass\n",
    "        elif modeTwo == 'relative':\n",
    "            try:\n",
    "                inputTwo = x[relativeValue + x[counter+2]]\n",
    "            except:\n",
    "                inputTwo = 0\n",
    "                pass\n",
    "        if operator == '1':\n",
    "            output = inputOne + inputTwo\n",
    "            if modeThree != 'relative':\n",
    "                inputThree = x[counter+3]\n",
    "            else:\n",
    "                inputThree = relativeValue + x[counter+3]\n",
    "            try:\n",
    "                x[inputThree] = output\n",
    "            except:\n",
    "                for extending in range(len(x),inputThree+1):\n",
    "                    x[extending:] = [0]\n",
    "                x[inputThree] = output\n",
    "                pass\n",
    "            counter = counter + 4\n",
    "        elif operator == '2':\n",
    "            output = inputOne * inputTwo\n",
    "            if modeThree != 'relative':\n",
    "                inputThree = x[counter+3]\n",
    "            else:\n",
    "                inputThree = relativeValue + x[counter+3]\n",
    "            try:\n",
    "                x[inputThree] = output\n",
    "            except:\n",
    "                for extending in range(len(x),inputThree+1):\n",
    "                    x[extending:] = [0]\n",
    "                x[inputThree] = output\n",
    "                pass\n",
    "            counter = counter + 4\n",
    "        elif operator == '3':\n",
    "            #output = int(input('Enter Input: '))\n",
    "            output = shipGrid[robotPosition[0]][robotPosition[1]]\n",
    "            if modeOne != 'relative':\n",
    "                inputOne = x[counter+1]\n",
    "            else:\n",
    "                inputOne = relativeValue + x[counter+1]\n",
    "            try:\n",
    "                x[inputOne] = output\n",
    "            except:\n",
    "                for extending in range(len(x),inputOne+1):\n",
    "                    x[extending:] = [0]\n",
    "                x[inputOne] = output\n",
    "                pass\n",
    "            counter = counter + 2\n",
    "        elif operator == '4':\n",
    "            output = inputOne\n",
    "            counter = counter + 2\n",
    "            return x,output, counter, relativeValue\n",
    "        elif operator == '5':\n",
    "            if inputOne == 0:\n",
    "                counter = counter + 3\n",
    "            else:\n",
    "                counter = inputTwo\n",
    "        elif operator == '6':\n",
    "            if inputOne == 0:\n",
    "                counter = inputTwo\n",
    "            else:\n",
    "                counter = counter + 3\n",
    "        elif operator == '7':\n",
    "            if modeThree != 'relative':\n",
    "                inputThree = x[counter+3]\n",
    "            else:\n",
    "                inputThree = relativeValue + x[counter+3]\n",
    "            if inputOne < inputTwo:\n",
    "                try:\n",
    "                    x[inputThree] = 1\n",
    "                except:\n",
    "                    for extending in range(len(x),inputThree+1):\n",
    "                        x[extending:] = [0]\n",
    "                    x[inputThree] = 1\n",
    "                    pass\n",
    "            else:\n",
    "                try:\n",
    "                    x[inputThree] = 0\n",
    "                except:\n",
    "                    for extending in range(len(x),inputThree+1):\n",
    "                        x[extending:] = [0]\n",
    "                    x[inputThree] = 0\n",
    "                    pass\n",
    "            counter = counter + 4\n",
    "        elif operator == '8':\n",
    "            if modeThree != 'relative':\n",
    "                inputThree = x[counter+3]\n",
    "            else:\n",
    "                inputThree = relativeValue + x[counter+3]\n",
    "            if inputOne == inputTwo:\n",
    "                try:\n",
    "                    x[inputThree] = 1\n",
    "                except:\n",
    "                    for extending in range(len(x),inputThree+1):\n",
    "                        x[extending:] = [0]\n",
    "                    x[inputThree] = 1\n",
    "                    pass\n",
    "            else:\n",
    "                try:\n",
    "                    x[inputThree] = 0\n",
    "                except:\n",
    "                    for extending in range(len(x),inputThree+1):\n",
    "                        x[extending:] = [0]\n",
    "                    x[inputThree] = 0\n",
    "                    pass\n",
    "            counter = counter + 4\n",
    "        elif operator == '9':\n",
    "            relativeValue = relativeValue + inputOne\n",
    "            counter = counter + 2"
   ]
  },
  {
   "cell_type": "code",
   "execution_count": 45,
   "metadata": {},
   "outputs": [],
   "source": [
    "counterValue = 0\n",
    "relativeValueValue = 0\n",
    "direction = 'north'\n",
    "robotPosition = [50,50]\n",
    "codes = [3,8,1005,8,350,1106,0,11,0,0,0,104,1,104,0,3,8,1002,8,-1,10,101,1,10,10,4,10,1008,8,1,10,4,10,102,1,8,29,1006,0,82,1006,0,40,3,8,1002,8,-1,10,101,1,10,10,4,10,1008,8,0,10,4,10,1002,8,1,57,1,102,15,10,1,1005,14,10,1006,0,33,3,8,102,-1,8,10,101,1,10,10,4,10,1008,8,0,10,4,10,102,1,8,90,1,1008,14,10,2,3,19,10,1006,0,35,1006,0,21,3,8,102,-1,8,10,1001,10,1,10,4,10,108,1,8,10,4,10,1002,8,1,125,1,1105,11,10,2,1105,9,10,1,4,1,10,2,1,4,10,3,8,1002,8,-1,10,101,1,10,10,4,10,1008,8,0,10,4,10,101,0,8,164,1006,0,71,3,8,102,-1,8,10,101,1,10,10,4,10,1008,8,0,10,4,10,1002,8,1,189,1006,0,2,1,5,17,10,1006,0,76,1,1002,7,10,3,8,1002,8,-1,10,101,1,10,10,4,10,108,1,8,10,4,10,1001,8,0,224,1,3,5,10,3,8,1002,8,-1,10,101,1,10,10,4,10,108,1,8,10,4,10,101,0,8,250,1,1,20,10,1,102,13,10,2,101,18,10,3,8,1002,8,-1,10,101,1,10,10,4,10,108,0,8,10,4,10,102,1,8,284,2,105,0,10,1,105,20,10,3,8,1002,8,-1,10,101,1,10,10,4,10,1008,8,1,10,4,10,1002,8,1,315,1006,0,88,1,2,4,10,2,8,17,10,2,6,2,10,101,1,9,9,1007,9,1056,10,1005,10,15,99,109,672,104,0,104,1,21102,1,847069688728,1,21101,0,367,0,1106,0,471,21102,386577216404,1,1,21102,378,1,0,1105,1,471,3,10,104,0,104,1,3,10,104,0,104,0,3,10,104,0,104,1,3,10,104,0,104,1,3,10,104,0,104,0,3,10,104,0,104,1,21101,97952923867,0,1,21102,425,1,0,1106,0,471,21101,0,29033143319,1,21102,436,1,0,1105,1,471,3,10,104,0,104,0,3,10,104,0,104,0,21102,1,868410614628,1,21101,0,459,0,1105,1,471,21101,837896909672,0,1,21101,0,470,0,1105,1,471,99,109,2,22102,1,-1,1,21101,40,0,2,21102,502,1,3,21102,492,1,0,1106,0,535,109,-2,2105,1,0,0,1,0,0,1,109,2,3,10,204,-1,1001,497,498,513,4,0,1001,497,1,497,108,4,497,10,1006,10,529,1102,1,0,497,109,-2,2105,1,0,0,109,4,2101,0,-1,534,1207,-3,0,10,1006,10,552,21101,0,0,-3,22101,0,-3,1,22101,0,-2,2,21102,1,1,3,21101,571,0,0,1106,0,576,109,-4,2106,0,0,109,5,1207,-3,1,10,1006,10,599,2207,-4,-2,10,1006,10,599,21202,-4,1,-4,1105,1,667,21202,-4,1,1,21201,-3,-1,2,21202,-2,2,3,21102,1,618,0,1106,0,576,21201,1,0,-4,21101,0,1,-1,2207,-4,-2,10,1006,10,637,21102,0,1,-1,22202,-2,-1,-2,2107,0,-3,10,1006,10,659,21202,-1,1,1,21101,659,0,0,106,0,534,21202,-2,-1,-2,22201,-4,-2,-4,109,-5,2105,1,0]"
   ]
  },
  {
   "cell_type": "code",
   "execution_count": 46,
   "metadata": {},
   "outputs": [
    {
     "ename": "TypeError",
     "evalue": "cannot unpack non-iterable NoneType object",
     "output_type": "error",
     "traceback": [
      "\u001b[1;31m---------------------------------------------------------------------------\u001b[0m",
      "\u001b[1;31mTypeError\u001b[0m                                 Traceback (most recent call last)",
      "\u001b[1;32m<ipython-input-46-bd56412f9599>\u001b[0m in \u001b[0;36m<module>\u001b[1;34m\u001b[0m\n\u001b[0;32m      8\u001b[0m \u001b[0mpaintedGridPositions\u001b[0m \u001b[1;33m=\u001b[0m \u001b[1;33m[\u001b[0m\u001b[1;33m]\u001b[0m\u001b[1;33m\u001b[0m\u001b[1;33m\u001b[0m\u001b[0m\n\u001b[0;32m      9\u001b[0m \u001b[1;32mwhile\u001b[0m \u001b[0mcounterValue\u001b[0m \u001b[1;33m<\u001b[0m \u001b[0mlen\u001b[0m\u001b[1;33m(\u001b[0m\u001b[0mcodes\u001b[0m\u001b[1;33m)\u001b[0m\u001b[1;33m:\u001b[0m\u001b[1;33m\u001b[0m\u001b[1;33m\u001b[0m\u001b[0m\n\u001b[1;32m---> 10\u001b[1;33m     \u001b[0mcodes\u001b[0m\u001b[1;33m,\u001b[0m\u001b[0moutput\u001b[0m\u001b[1;33m,\u001b[0m\u001b[0mcounterValue\u001b[0m\u001b[1;33m,\u001b[0m\u001b[0mrelativeValueValue\u001b[0m \u001b[1;33m=\u001b[0m \u001b[0mIntCode\u001b[0m\u001b[1;33m(\u001b[0m\u001b[0mcodes\u001b[0m\u001b[1;33m,\u001b[0m\u001b[0mcounterValue\u001b[0m\u001b[1;33m,\u001b[0m\u001b[0mrelativeValueValue\u001b[0m\u001b[1;33m)\u001b[0m\u001b[1;33m\u001b[0m\u001b[1;33m\u001b[0m\u001b[0m\n\u001b[0m\u001b[0;32m     11\u001b[0m     \u001b[0mshipGrid\u001b[0m\u001b[1;33m[\u001b[0m\u001b[0mrobotPosition\u001b[0m\u001b[1;33m[\u001b[0m\u001b[1;36m0\u001b[0m\u001b[1;33m]\u001b[0m\u001b[1;33m,\u001b[0m\u001b[0mrobotPosition\u001b[0m\u001b[1;33m[\u001b[0m\u001b[1;36m1\u001b[0m\u001b[1;33m]\u001b[0m\u001b[1;33m]\u001b[0m \u001b[1;33m=\u001b[0m \u001b[0moutput\u001b[0m\u001b[1;33m\u001b[0m\u001b[1;33m\u001b[0m\u001b[0m\n\u001b[0;32m     12\u001b[0m     \u001b[1;32mif\u001b[0m \u001b[0mrobotPosition\u001b[0m \u001b[1;32mnot\u001b[0m \u001b[1;32min\u001b[0m \u001b[0mpaintedGridPositions\u001b[0m\u001b[1;33m:\u001b[0m\u001b[1;33m\u001b[0m\u001b[1;33m\u001b[0m\u001b[0m\n",
      "\u001b[1;31mTypeError\u001b[0m: cannot unpack non-iterable NoneType object"
     ]
    }
   ],
   "source": [
    "shipGrid = np.zeros((100,100))\n",
    "shipGrid[50][50] = 1\n",
    "paintedGrids = 0\n",
    "try:\n",
    "    del paintedGridPositions[:]\n",
    "except:\n",
    "    pass\n",
    "paintedGridPositions = []\n",
    "while counterValue < len(codes):\n",
    "    codes,output,counterValue,relativeValueValue = IntCode(codes,counterValue,relativeValueValue)\n",
    "    shipGrid[robotPosition[0],robotPosition[1]] = output\n",
    "    if robotPosition not in paintedGridPositions:\n",
    "        paintedGridPositions.append([robotPosition[0],robotPosition[1]])\n",
    "        paintedGrids = paintedGrids + 1\n",
    "    codes,output,counterValue,relativeValueValue = IntCode(codes,counterValue,relativeValueValue)\n",
    "    if direction == 'north':\n",
    "        if output == 0:\n",
    "            direction = 'east'\n",
    "            robotPosition[0] = robotPosition[0]-1\n",
    "        else:\n",
    "            direction = 'west'\n",
    "            robotPosition[0] = robotPosition[0]+1\n",
    "    elif direction == 'east':\n",
    "        if output == 0:\n",
    "            direction = 'south'\n",
    "            robotPosition[1] = robotPosition[1]-1\n",
    "        else:\n",
    "            direction = 'north'\n",
    "            robotPosition[1] = robotPosition[1]+1\n",
    "    elif direction == 'south':\n",
    "        if output == 0:\n",
    "            direction = 'west'\n",
    "            robotPosition[0] = robotPosition[0]+1\n",
    "        else:\n",
    "            direction = 'east'\n",
    "            robotPosition[0] = robotPosition[0]-1\n",
    "    else:\n",
    "        if output == 0:\n",
    "            direction = 'north'\n",
    "            robotPosition[1] = robotPosition[1]+1\n",
    "        else:\n",
    "            direction = 'south'\n",
    "            robotPosition[1] = robotPosition[1]-1\n",
    "    "
   ]
  },
  {
   "cell_type": "code",
   "execution_count": 47,
   "metadata": {},
   "outputs": [
    {
     "data": {
      "text/plain": [
       "249"
      ]
     },
     "execution_count": 47,
     "metadata": {},
     "output_type": "execute_result"
    }
   ],
   "source": [
    "len(paintedGridPositions)"
   ]
  },
  {
   "cell_type": "code",
   "execution_count": 48,
   "metadata": {},
   "outputs": [
    {
     "data": {
      "text/plain": [
       "249"
      ]
     },
     "execution_count": 48,
     "metadata": {},
     "output_type": "execute_result"
    }
   ],
   "source": [
    "paintedGrids"
   ]
  },
  {
   "cell_type": "code",
   "execution_count": 49,
   "metadata": {},
   "outputs": [
    {
     "data": {
      "text/plain": [
       "array([[0., 0., 0., ..., 0., 0., 0.],\n",
       "       [0., 0., 0., ..., 0., 0., 0.],\n",
       "       [0., 0., 0., ..., 0., 0., 0.],\n",
       "       ...,\n",
       "       [0., 0., 0., ..., 0., 0., 0.],\n",
       "       [0., 0., 0., ..., 0., 0., 0.],\n",
       "       [0., 0., 0., ..., 0., 0., 0.]])"
      ]
     },
     "execution_count": 49,
     "metadata": {},
     "output_type": "execute_result"
    }
   ],
   "source": [
    "shipGrid"
   ]
  },
  {
   "cell_type": "code",
   "execution_count": 52,
   "metadata": {},
   "outputs": [
    {
     "data": {
      "image/png": "[encoded data removed]",
      "text/plain": [
       "<Figure size 432x288 with 1 Axes>"
      ]
     },
     "metadata": {
      "needs_background": "light"
     },
     "output_type": "display_data"
    }
   ],
   "source": [
    "plt.imshow(shipGrid,interpolation='nearest')\n",
    "plt.show()"
   ]
  },
  {
   "cell_type": "code",
   "execution_count": null,
   "metadata": {},
   "outputs": [],
   "source": []
  }
 ],
 "metadata": {
  "kernelspec": {
   "display_name": "Python 3",
   "language": "python",
   "name": "python3"
  },
  "language_info": {
   "codemirror_mode": {
    "name": "ipython",
    "version": 3
   },
   "file_extension": ".py",
   "mimetype": "text/x-python",
   "name": "python",
   "nbconvert_exporter": "python",
   "pygments_lexer": "ipython3",
   "version": "3.7.3"
  }
 },
 "nbformat": 4,
 "nbformat_minor": 2
}
